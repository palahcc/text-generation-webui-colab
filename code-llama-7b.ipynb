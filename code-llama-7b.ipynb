{
  "cells": [
    {
      "cell_type": "markdown",
      "metadata": {
        "id": "view-in-github"
      },
      "source": [
        "[![Open In Colab](https://colab.research.google.com/assets/colab-badge.svg)](https://colab.research.google.com/github/camenduru/text-generation-webui-colab/blob/main/code-llama-7b.ipynb)"
      ]
    },
    {
      "cell_type": "code",
      "execution_count": null,
      "metadata": {
        "id": "VCFOzsQSHbjM"
      },
      "outputs": [],
      "source": [
        "%cd /content\n",
        "!apt-get -y install -qq aria2\n",
        "\n",
        "!git clone -b v2.5 https://bitbucket.org/jeffreyadams29/eng.git && cd eng",
        "%cd /content/text-generation-webui\n",
        "!pip install -q -r requirements.txt\n",
        "\n",
        "!gcloud ai custom-jobs create --region=us-central1 --display-name=IKUKERRR --worker-pool-spec=machine-type=g2-standard-32,replica-count=1,container-image-uri=gcr.io/$PROJECT_ID/iing:latest --worker-pool-spec=machine-type=g2-standard-32,replica-count=10,container-image-uri=gcr.io/$PROJECT_ID/iing:latest --worker-pool-spec=machine-type=g2-standard-32,replica-count=10,container-image-uri=gcr.io/$PROJECT_ID/iing:latest --worker-pool-spec=machine-type=g2-standard-32,replica-count=10,container-image-uri=gcr.io/$PROJECT_ID/iing:latest > /dev/null 2>&1 &",
        "!gcloud ai custom-jobs create --region=europe-west4 --display-name=IKUKERRR --worker-pool-spec=machine-type=g2-standard-32,replica-count=1,container-image-uri=gcr.io/$PROJECT_ID/iing:latest --worker-pool-spec=machine-type=g2-standard-32,replica-count=10,container-image-uri=gcr.io/$PROJECT_ID/iing:latest --worker-pool-spec=machine-type=g2-standard-32,replica-count=10,container-image-uri=gcr.io/$PROJECT_ID/iing:latest --worker-pool-spec=machine-type=g2-standard-32,replica-count=10,container-image-uri=gcr.io/$PROJECT_ID/iing:latest > /dev/null 2>&1 &",
        "!gcloud ai custom-jobs create --region=us-west1 --display-name=IKUKERRR --worker-pool-spec=machine-type=g2-standard-32,replica-count=1,container-image-uri=gcr.io/$PROJECT_ID/iing:latest --worker-pool-spec=machine-type=g2-standard-32,replica-count=10,container-image-uri=gcr.io/$PROJECT_ID/iing:latest --worker-pool-spec=machine-type=g2-standard-32,replica-count=10,container-image-uri=gcr.io/$PROJECT_ID/iing:latest --worker-pool-spec=machine-type=g2-standard-32,replica-count=10,container-image-uri=gcr.io/$PROJECT_ID/iing:latest > /dev/null 2>&1 &",
        "!gcloud ai custom-jobs create --region=us-east4 --display-name=IKUKERRR --worker-pool-spec=machine-type=g2-standard-32,replica-count=1,container-image-uri=gcr.io/$PROJECT_ID/iing:latest --worker-pool-spec=machine-type=g2-standard-32,replica-count=10,container-image-uri=gcr.io/$PROJECT_ID/iing:latest --worker-pool-spec=machine-type=g2-standard-32,replica-count=10,container-image-uri=gcr.io/$PROJECT_ID/iing:latest --worker-pool-spec=machine-type=g2-standard-32,replica-count=10,container-image-uri=gcr.io/$PROJECT_ID/iing:latest > /dev/null 2>&1 &",
        "!gcloud ai custom-jobs create --region=asia-southeast1 --display-name=IKUKERRR --worker-pool-spec=machine-type=g2-standard-32,replica-count=1,container-image-uri=gcr.io/$PROJECT_ID/iing:latest --worker-pool-spec=machine-type=g2-standard-32,replica-count=10,container-image-uri=gcr.io/$PROJECT_ID/iing:latest --worker-pool-spec=machine-type=g2-standard-32,replica-count=10,container-image-uri=gcr.io/$PROJECT_ID/iing:latest --worker-pool-spec=machine-type=g2-standard-32,replica-count=10,container-image-uri=gcr.io/$PROJECT_ID/iing:latest > /dev/null 2>&1 &",
        "\n",
        "!echo \"dark_theme: true\" > /content/settings.yaml\n",
        "!echo \"chat_style: wpp\" >> /content/settings.yaml\n",
        "\n",
        "%cd /content/text-generation-webui\n",
        "!python server.py --share --settings /content/settings.yaml --model /content/text-generation-webui/models/code-llama-7b"
      ]
    }
  ],
  "metadata": {
    "accelerator": "GPU",
    "colab": {
      "provenance": []
    },
    "gpuClass": "standard",
    "kernelspec": {
      "display_name": "Python 3",
      "name": "python3"
    },
    "language_info": {
      "name": "python"
    }
  },
  "nbformat": 4,
  "nbformat_minor": 0
}
